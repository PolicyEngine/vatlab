{
 "cells": [
  {
   "cell_type": "markdown",
   "metadata": {},
   "source": [
    "# UK VAT Threshold Simulation\n",
    "\n",
    "This notebook demonstrates the behavioral effects of VAT threshold changes using elasticities from academic literature.\n",
    "\n",
    "## Key Parameters from Literature\n",
    "\n",
    "- **Turnover elasticity**: 0.09-0.18 (Liu et al. 2019)\n",
    "- **Growth slowdown**: ~1 percentage point near threshold (IMF 2024)\n",
    "- **Bunching behavior**: 15-20% of firms near threshold bunch below it"
   ]
  },
  {
   "cell_type": "code",
   "execution_count": null,
   "metadata": {},
   "outputs": [],
   "source": [
    "import pandas as pd\n",
    "import numpy as np\n",
    "import matplotlib.pyplot as plt\n",
    "import sys\n",
    "from pathlib import Path\n",
    "\n",
    "# Add src to path\n",
    "sys.path.insert(0, str(Path.cwd()))\n",
    "from src.vat_simulation import VATSimulator, VATPolicy\n",
    "\n",
    "# Set random seed for reproducibility\n",
    "np.random.seed(42)\n",
    "print(\"Libraries loaded successfully\")"
   ]
  },
  {
   "cell_type": "markdown",
   "metadata": {},
   "source": [
    "## 1. Load Synthetic Firm Data\n",
    "\n",
    "We use synthetic data representing UK firms with realistic turnover distributions."
   ]
  },
  {
   "cell_type": "code",
   "execution_count": null,
   "metadata": {},
   "outputs": [],
   "source": [
    "# Load synthetic firms\n",
    "firms_df = pd.read_csv('analysis/synthetic_firms_quick.csv')\n",
    "print(f\"Loaded {len(firms_df):,} synthetic firms\\n\")\n",
    "\n",
    "# Show distribution\n",
    "print(\"Turnover Distribution:\")\n",
    "print(f\"  Below £85k: {(firms_df['annual_turnover'] < 85000).sum():,} firms\")\n",
    "print(f\"  £85k-£90k: {((firms_df['annual_turnover'] >= 85000) & (firms_df['annual_turnover'] < 90000)).sum():,} firms\")\n",
    "print(f\"  Above £90k: {(firms_df['annual_turnover'] >= 90000).sum():,} firms\")\n",
    "\n",
    "# Display sample\n",
    "firms_df.head()"
   ]
  },
  {
   "cell_type": "markdown",
   "metadata": {},
   "source": [
    "## 2. Understanding the VAT Notch Effect\n",
    "\n",
    "The VAT threshold creates a \"notch\" - a discontinuous jump in tax liability. Firms just below £90k pay no VAT, while those just above must register and charge 20% VAT on their sales.\n",
    "\n",
    "This creates two behavioral responses:\n",
    "1. **Bunching**: Firms deliberately stay below the threshold\n",
    "2. **Growth slowdown**: Reduced business activity to avoid crossing"
   ]
  },
  {
   "cell_type": "code",
   "execution_count": null,
   "metadata": {},
   "outputs": [],
   "source": [
    "# Visualize original turnover distribution near threshold\n",
    "fig, (ax1, ax2) = plt.subplots(1, 2, figsize=(14, 5))\n",
    "\n",
    "# Full distribution\n",
    "ax1.hist(firms_df['annual_turnover'] / 1000, bins=100, alpha=0.7, edgecolor='black')\n",
    "ax1.axvline(90, color='red', linestyle='--', linewidth=2, label='VAT Threshold (£90k)')\n",
    "ax1.set_xlabel('Annual Turnover (£k)')\n",
    "ax1.set_ylabel('Number of Firms')\n",
    "ax1.set_title('Full Turnover Distribution')\n",
    "ax1.set_xlim(0, 200)\n",
    "ax1.legend()\n",
    "\n",
    "# Zoomed view near threshold\n",
    "near_threshold = firms_df[(firms_df['annual_turnover'] >= 70000) & \n",
    "                          (firms_df['annual_turnover'] <= 110000)]\n",
    "ax2.hist(near_threshold['annual_turnover'] / 1000, bins=40, alpha=0.7, \n",
    "         color='orange', edgecolor='black')\n",
    "ax2.axvline(90, color='red', linestyle='--', linewidth=2, label='VAT Threshold')\n",
    "ax2.axvspan(85, 90, alpha=0.2, color='yellow', label='Typical bunching zone')\n",
    "ax2.set_xlabel('Annual Turnover (£k)')\n",
    "ax2.set_ylabel('Number of Firms')\n",
    "ax2.set_title('Distribution Near Threshold (£70k-£110k)')\n",
    "ax2.legend()\n",
    "\n",
    "plt.tight_layout()\n",
    "plt.show()\n",
    "\n",
    "print(f\"\\nNotice the concentration of firms just below £90k - this is 'bunching'\")"
   ]
  },
  {
   "cell_type": "markdown",
   "metadata": {},
   "source": [
    "## 3. Initialize VAT Simulator with Literature-Based Parameters"
   ]
  },
  {
   "cell_type": "code",
   "execution_count": null,
   "metadata": {},
   "outputs": [],
   "source": [
    "# Create simulator with parameters from academic literature\n",
    "simulator = VATSimulator(\n",
    "    firms=firms_df,\n",
    "    elasticity_turnover=0.14,  # Mid-point from Liu et al. (0.09-0.18)\n",
    "    bunching_rate=0.15,        # 15% of firms near threshold will bunch\n",
    "    growth_slowdown=0.01       # 1 percentage point growth reduction\n",
    ")\n",
    "\n",
    "print(\"Simulator initialized with:\")\n",
    "print(f\"  Elasticity: 0.14 (firms reduce turnover by 14% of VAT burden)\")\n",
    "print(f\"  Bunching rate: 15% (of firms near threshold)\")\n",
    "print(f\"  Growth slowdown: 1pp (for firms just above threshold)\")"
   ]
  },
  {
   "cell_type": "markdown",
   "metadata": {},
   "source": [
    "## 4. Simulate Different Policy Scenarios"
   ]
  },
  {
   "cell_type": "code",
   "execution_count": null,
   "metadata": {},
   "outputs": [],
   "source": [
    "# Define policy scenarios\n",
    "policies = {\n",
    "    'Current (£90k)': VATPolicy(threshold=90000, standard_rate=0.20),\n",
    "    'Lower (£85k)': VATPolicy(threshold=85000, standard_rate=0.20),\n",
    "    'Higher (£100k)': VATPolicy(threshold=100000, standard_rate=0.20),\n",
    "    'With Marginal Rates': VATPolicy(\n",
    "        threshold=90000,\n",
    "        standard_rate=0.20,\n",
    "        reduced_rates={\n",
    "            (30000, 60000): 0.10,  # 10% for firms £30k-£60k\n",
    "            (60000, 90000): 0.15   # 15% for firms £60k-£90k\n",
    "        }\n",
    "    )\n",
    "}\n",
    "\n",
    "# Run simulations\n",
    "results = {}\n",
    "for name, policy in policies.items():\n",
    "    results[name] = simulator.simulate(policy)\n",
    "    print(f\"\\n{name}:\")\n",
    "    print(f\"  Revenue: £{results[name]['vat_revenue']/1e9:.2f}B\")\n",
    "    print(f\"  Registered firms: {results[name]['num_registered']:,}\")\n",
    "    print(f\"  Bunching firms: {results[name]['firms_bunching']:,}\")\n",
    "    print(f\"  Behavioral cost: £{-results[name]['behavioral_adjustment']/1e6:.1f}M\")"
   ]
  },
  {
   "cell_type": "markdown",
   "metadata": {},
   "source": [
    "## 5. Visualize Behavioral Responses"
   ]
  },
  {
   "cell_type": "code",
   "execution_count": null,
   "metadata": {},
   "outputs": [],
   "source": [
    "# Compare distributions before and after behavioral response\n",
    "fig, axes = plt.subplots(2, 2, figsize=(14, 10))\n",
    "\n",
    "scenarios = ['Current (£90k)', 'Lower (£85k)']\n",
    "thresholds = [90000, 85000]\n",
    "\n",
    "for idx, (scenario, threshold) in enumerate(zip(scenarios, thresholds)):\n",
    "    # Original distribution\n",
    "    ax = axes[idx, 0]\n",
    "    region = firms_df[(firms_df['annual_turnover'] >= threshold - 20000) & \n",
    "                      (firms_df['annual_turnover'] <= threshold + 20000)]\n",
    "    ax.hist(region['annual_turnover'] / 1000, bins=40, alpha=0.7, \n",
    "            color='blue', edgecolor='black', label='Original')\n",
    "    ax.axvline(threshold/1000, color='red', linestyle='--', linewidth=2)\n",
    "    ax.set_xlabel('Annual Turnover (£k)')\n",
    "    ax.set_ylabel('Number of Firms')\n",
    "    ax.set_title(f'{scenario} - Original Distribution')\n",
    "    ax.legend()\n",
    "    \n",
    "    # After behavioral response\n",
    "    ax = axes[idx, 1]\n",
    "    adjusted = results[scenario]['adjusted_firms']\n",
    "    region_adj = adjusted[(adjusted['annual_turnover'] >= threshold - 20000) & \n",
    "                         (adjusted['annual_turnover'] <= threshold + 20000)]\n",
    "    ax.hist(region_adj['annual_turnover'] / 1000, bins=40, alpha=0.7, \n",
    "            color='green', edgecolor='black', label='After response')\n",
    "    ax.axvline(threshold/1000, color='red', linestyle='--', linewidth=2)\n",
    "    ax.axvspan(threshold*0.98/1000, threshold/1000, alpha=0.3, color='yellow', \n",
    "               label='Bunching zone')\n",
    "    ax.set_xlabel('Annual Turnover (£k)')\n",
    "    ax.set_ylabel('Number of Firms')\n",
    "    ax.set_title(f'{scenario} - After Behavioral Response')\n",
    "    ax.legend()\n",
    "\n",
    "plt.tight_layout()\n",
    "plt.show()"
   ]
  },
  {
   "cell_type": "markdown",
   "metadata": {},
   "source": [
    "## 6. Policy Comparison Summary"
   ]
  },
  {
   "cell_type": "code",
   "execution_count": null,
   "metadata": {},
   "outputs": [],
   "source": [
    "# Create comparison table\n",
    "comparison_data = []\n",
    "for name, result in results.items():\n",
    "    policy = result['policy']\n",
    "    comparison_data.append({\n",
    "        'Policy': name,\n",
    "        'Threshold': f\"£{policy.threshold:,.0f}\",\n",
    "        'Revenue (£B)': f\"{result['vat_revenue']/1e9:.2f}\",\n",
    "        'Behavioral Cost (£M)': f\"{-result['behavioral_adjustment']/1e6:.1f}\",\n",
    "        'Efficiency Loss': f\"{-result['behavioral_adjustment']/result['baseline_revenue']*100:.1f}%\",\n",
    "        'Registered Firms': f\"{result['num_registered']:,}\",\n",
    "        'Bunching Firms': f\"{result['firms_bunching']:,}\"\n",
    "    })\n",
    "\n",
    "comparison_df = pd.DataFrame(comparison_data)\n",
    "print(\"\\nPolicy Comparison Table:\")\n",
    "print(\"=\"*80)\n",
    "print(comparison_df.to_string(index=False))"
   ]
  },
  {
   "cell_type": "markdown",
   "metadata": {},
   "source": [
    "## 7. Key Insights\n",
    "\n",
    "### The VAT Notch Problem\n",
    "- Firms bunch below the threshold to avoid VAT registration\n",
    "- This creates economic inefficiency as firms limit their growth\n",
    "- The behavioral response reduces VAT revenue by millions\n",
    "\n",
    "### Policy Trade-offs\n",
    "1. **Lower threshold (£85k)**: More revenue but greater distortions\n",
    "2. **Higher threshold (£100k)**: Less distortion but lower revenue\n",
    "3. **Marginal rates**: Could smooth the transition and reduce bunching\n",
    "\n",
    "### Elasticity Effects\n",
    "- With elasticity of 0.14, firms reduce turnover by ~2.8% when facing 20% VAT\n",
    "- This behavioral response costs the government significant revenue"
   ]
  },
  {
   "cell_type": "code",
   "execution_count": null,
   "metadata": {},
   "outputs": [],
   "source": [
    "# Calculate specific insights\n",
    "current = results['Current (£90k)']\n",
    "lower = results['Lower (£85k)']\n",
    "marginal = results['With Marginal Rates']\n",
    "\n",
    "print(\"\\nQUANTIFIED INSIGHTS:\")\n",
    "print(\"=\"*50)\n",
    "print(f\"\\n1. BUNCHING EFFECT:\")\n",
    "print(f\"   {current['firms_bunching']:,} firms bunch below £90k\")\n",
    "print(f\"   This is {current['firms_bunching']/len(firms_df)*100:.1f}% of all firms\")\n",
    "\n",
    "print(f\"\\n2. REVENUE IMPACT OF THRESHOLD CHANGE:\")\n",
    "print(f\"   Lowering to £85k: +£{(lower['vat_revenue']-current['vat_revenue'])/1e9:.2f}B revenue\")\n",
    "print(f\"   But increases bunching to {lower['firms_bunching']:,} firms\")\n",
    "\n",
    "print(f\"\\n3. EFFICIENCY LOSS:\")\n",
    "print(f\"   Current policy loses {-current['behavioral_adjustment']/current['baseline_revenue']*100:.1f}% to behavioral responses\")\n",
    "print(f\"   This equals £{-current['behavioral_adjustment']/1e6:.1f}M in lost revenue\")\n",
    "\n",
    "print(f\"\\n4. MARGINAL RATES OPTION:\")\n",
    "print(f\"   Changes revenue by £{(marginal['vat_revenue']-current['vat_revenue'])/1e6:.1f}M\")\n",
    "print(f\"   Could help smooth the threshold discontinuity\")"
   ]
  }
 ],
 "metadata": {
  "kernelspec": {
   "display_name": "Python 3",
   "language": "python",
   "name": "python3"
  },
  "language_info": {
   "codemirror_mode": {
    "name": "ipython",
    "version": 3
   },
   "file_extension": ".py",
   "mimetype": "text/x-python",
   "name": "python",
   "nbconvert_exporter": "python",
   "pygments_lexer": "ipython3",
   "version": "3.10.0"
  }
 },
 "nbformat": 4,
 "nbformat_minor": 4
}